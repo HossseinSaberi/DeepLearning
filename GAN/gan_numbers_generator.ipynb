{
 "cells": [
  {
   "cell_type": "code",
   "execution_count": 1,
   "metadata": {},
   "outputs": [],
   "source": [
    "from tensorflow import keras\n",
    "import numpy as np\n",
    "import matplotlib.pyplot as plt"
   ]
  },
  {
   "cell_type": "code",
   "execution_count": 2,
   "metadata": {},
   "outputs": [],
   "source": [
    "def build_generator():\n",
    "    model = keras.models.Sequential()\n",
    "    model.add(keras.layers.Dense(256, input_dim=100))\n",
    "    model.add(keras.layers.LeakyReLU(alpha=0.2))\n",
    "    model.add(keras.layers.BatchNormalization(momentum=0.8))\n",
    "    model.add(keras.layers.Dense(512))\n",
    "    model.add(keras.layers.LeakyReLU(alpha=0.2))\n",
    "    model.add(keras.layers.BatchNormalization(momentum=0.8))\n",
    "    model.add(keras.layers.Dense(1024))\n",
    "    model.add(keras.layers.LeakyReLU(alpha=0.2))\n",
    "    model.add(keras.layers.BatchNormalization(momentum=0.8))\n",
    "    model.add(keras.layers.Dense(28 * 28 * 1, activation='tanh'))\n",
    "    model.add(keras.layers.Reshape((28, 28, 1)))"
   ]
  },
  {
   "cell_type": "code",
   "execution_count": 3,
   "metadata": {},
   "outputs": [],
   "source": [
    "def build_discriminator(depth=64, dropout=0.4):\n",
    "    model = keras.models.Sequential()\n",
    "    model.add(keras.layers.Flatten(input_shape=(28,28,1)))\n",
    "    model.add(keras.layers.Conv2D(depth*1, 5, strides=2, input_shape=input_shape, padding='same', activation=keras.layers.LeakyReLU(alpha=0.2)))\n",
    "    model.add(keras.layers.LeakyReLU(alpha=0.2))\n",
    "    model.add(keras.layers.Dense(256))\n",
    "    model.add(keras.layers.LeakyReLU(alpha=0.2))\n",
    "    model.add(keras.layers.Dense(1, activation='sigmoid'))\n",
    "    return model"
   ]
  },
  {
   "cell_type": "code",
   "execution_count": 4,
   "metadata": {},
   "outputs": [],
   "source": [
    "def build_gan(generator, discriminator):\n",
    "    model = keras.models.Sequential()\n",
    "    model.add(generator)\n",
    "    model.add(discriminator)\n",
    "    return model"
   ]
  },
  {
   "cell_type": "code",
   "execution_count": 5,
   "metadata": {},
   "outputs": [],
   "source": [
    "def sample_images(generator, epoch, rows=5, cols=5):\n",
    "    noise = np.random.normal(0, 1 , (rows * cols, 100))\n",
    "    gen_images = generator.predict(noise)\n",
    "    gen_images = 0.5 * gen_images + 0.5 # Rescale to [0, 1]\n",
    "\n",
    "    fig , axs = plt.subplots(rows, cols, figsize=(10,10), sharey=True, sharex=True)\n",
    "    cnt = 0\n",
    "\n",
    "    for i in range(rows):\n",
    "        for j in range(cols):\n",
    "            axs[i,j].imshow(gen_images[cnt, : , : , 0], cmap='gray')\n",
    "            axs[i,j].axis('off')\n",
    "            cnt += 1\n",
    "\n",
    "    plt.show()"
   ]
  },
  {
   "cell_type": "code",
   "execution_count": 6,
   "metadata": {},
   "outputs": [],
   "source": [
    "def train_gan(gan, generator, discriminator, x_train, epochs=10000, batch_size=128, sample_interval=1000):\n",
    "    half_batch = int(batch_size / 2)\n",
    "\n",
    "    for epoch in range(epochs):\n",
    "        # Train the discriminator with real images\n",
    "        idx = np.random.randint(0, x_train.shape[0], half_batch)\n",
    "        real_images = x_train[idx]\n",
    "\n",
    "        noise = np.random.normal(0, 1, (half_batch, 100))\n",
    "        generated_images = generator.predict(noise)\n",
    "\n",
    "        d_loss_real = discriminator.train_on_batch(real_images, np.ones((half_batch, 1)))\n",
    "        d_loss_fake = discriminator.train_on_batch(generated_images, np.zeros((half_batch, 1)))\n",
    "        d_loss = 0.5 * np.add(d_loss_real, d_loss_fake)\n",
    "\n",
    "        # Train the generator via the GAN\n",
    "        noise = np.random.normal(0, 1, (batch_size, 100))\n",
    "        valid_y = np.array([1] * batch_size)\n",
    "\n",
    "        g_loss = gan.train_on_batch(noise, valid_y)\n",
    "\n",
    "        # Print the progress\n",
    "        print(f\"{epoch + 1}/{epochs} [D loss: {d_loss[0]} | D accuracy: {100 * d_loss[1]}] [G loss: {g_loss}]\")\n",
    "\n",
    "        # If at save interval => save generated image samples\n",
    "        if epoch % sample_interval == 0:\n",
    "            sample_images(generator, epoch)"
   ]
  },
  {
   "cell_type": "code",
   "execution_count": null,
   "metadata": {},
   "outputs": [],
   "source": []
  }
 ],
 "metadata": {
  "kernelspec": {
   "display_name": "Python 3",
   "language": "python",
   "name": "python3"
  },
  "language_info": {
   "codemirror_mode": {
    "name": "ipython",
    "version": 3
   },
   "file_extension": ".py",
   "mimetype": "text/x-python",
   "name": "python",
   "nbconvert_exporter": "python",
   "pygments_lexer": "ipython3",
   "version": "3.11.4"
  }
 },
 "nbformat": 4,
 "nbformat_minor": 2
}
